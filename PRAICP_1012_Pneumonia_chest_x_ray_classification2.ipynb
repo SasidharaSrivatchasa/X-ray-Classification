{
  "nbformat": 4,
  "nbformat_minor": 0,
  "metadata": {
    "colab": {
      "provenance": [],
      "mount_file_id": "1f84ucBtt4t5gTBfHAdGyEnd6xvXlHD25",
      "authorship_tag": "ABX9TyO8JZJ9twUe+xZFs6E0JIn+",
      "include_colab_link": true
    },
    "kernelspec": {
      "name": "python3",
      "display_name": "Python 3"
    },
    "language_info": {
      "name": "python"
    }
  },
  "cells": [
    {
      "cell_type": "markdown",
      "metadata": {
        "id": "view-in-github",
        "colab_type": "text"
      },
      "source": [
        "<a href=\"https://colab.research.google.com/github/SasidharaSrivatchasa/X-ray-Classification/blob/main/PRAICP_1012_Pneumonia_chest_x_ray_classification2.ipynb\" target=\"_parent\"><img src=\"https://colab.research.google.com/assets/colab-badge.svg\" alt=\"Open In Colab\"/></a>"
      ]
    },
    {
      "cell_type": "code",
      "execution_count": 39,
      "metadata": {
        "id": "QtXIyMjGFMzf"
      },
      "outputs": [],
      "source": [
        "#Importing all the required libraries for building an training the model\n",
        "import tensorflow as tf\n",
        "from tensorflow.keras.models import Sequential\n",
        "from tensorflow.keras.layers import Conv2D, MaxPooling2D, Flatten, Dense, Dropout\n",
        "from tensorflow.keras.preprocessing.image import ImageDataGenerator\n",
        "import zipfile\n",
        "import os"
      ]
    },
    {
      "cell_type": "code",
      "source": [
        "from google.colab import drive\n",
        "drive.mount('/content/drive')"
      ],
      "metadata": {
        "id": "bICrMGJcG1Zk",
        "colab": {
          "base_uri": "https://localhost:8080/"
        },
        "outputId": "2bceed90-2941-4a42-9b5c-7b3e723344e3"
      },
      "execution_count": 40,
      "outputs": [
        {
          "output_type": "stream",
          "name": "stdout",
          "text": [
            "Drive already mounted at /content/drive; to attempt to forcibly remount, call drive.mount(\"/content/drive\", force_remount=True).\n"
          ]
        }
      ]
    },
    {
      "cell_type": "code",
      "source": [
        "# Defining Dataset Paths for already saparated data in the dataset(Train, Test, Validation)\n",
        "train_dir = \"/content/drive/MyDrive/MY PROJECTS ON MACHINE LEARNING AND AI/INTERNSHIP PROJECTS /CAPSTONE PROJECTS/PROJECT 4 (PRAICP-1012-Pneumonia chest x-ray classification2)/Data/Chest-Xray-2/chest_xray/train\"\n",
        "val_dir = \"/content/drive/MyDrive/MY PROJECTS ON MACHINE LEARNING AND AI/INTERNSHIP PROJECTS /CAPSTONE PROJECTS/PROJECT 4 (PRAICP-1012-Pneumonia chest x-ray classification2)/Data/Chest-Xray-2/chest_xray/val\"\n",
        "test_dir = \"/content/drive/MyDrive/MY PROJECTS ON MACHINE LEARNING AND AI/INTERNSHIP PROJECTS /CAPSTONE PROJECTS/PROJECT 4 (PRAICP-1012-Pneumonia chest x-ray classification2)/Data/Chest-Xray-2/chest_xray/train\""
      ],
      "metadata": {
        "id": "d5NCWv6DHDa1"
      },
      "execution_count": 41,
      "outputs": []
    },
    {
      "cell_type": "code",
      "source": [
        "# Load Data Using ImageDataGenerator\n",
        "IMG_SIZE = (128, 128)\n",
        "BATCH_SIZE = 32"
      ],
      "metadata": {
        "id": "FqApPfCMS5iC"
      },
      "execution_count": 42,
      "outputs": []
    },
    {
      "cell_type": "code",
      "source": [
        "datagen = ImageDataGenerator(rescale=1./255)  # Normalize pixel values\n"
      ],
      "metadata": {
        "id": "kOm0sE3yVAYP"
      },
      "execution_count": 43,
      "outputs": []
    },
    {
      "cell_type": "code",
      "source": [
        "train_generator = datagen.flow_from_directory(\n",
        "    train_dir,\n",
        "    target_size=IMG_SIZE,\n",
        "    batch_size=BATCH_SIZE,\n",
        "    class_mode='binary'\n",
        ")\n",
        "\n",
        "val_generator = datagen.flow_from_directory(\n",
        "    val_dir,\n",
        "    target_size=IMG_SIZE,\n",
        "    batch_size=BATCH_SIZE,\n",
        "    class_mode='binary'\n",
        ")\n",
        "\n",
        "test_generator = datagen.flow_from_directory(\n",
        "    test_dir,\n",
        "    target_size=IMG_SIZE,\n",
        "    batch_size=BATCH_SIZE,\n",
        "    class_mode='binary',\n",
        "    shuffle=False  # No need to shuffle test data\n",
        ")\n",
        "\n",
        "print(\"Data Loaded Successfully!\")\n"
      ],
      "metadata": {
        "colab": {
          "base_uri": "https://localhost:8080/"
        },
        "id": "A9G2vBIkTHug",
        "outputId": "391a2efd-7206-457a-cfe4-dcf86b8eaa8e"
      },
      "execution_count": 44,
      "outputs": [
        {
          "output_type": "stream",
          "name": "stdout",
          "text": [
            "Found 5226 images belonging to 2 classes.\n",
            "Found 16 images belonging to 2 classes.\n",
            "Found 5226 images belonging to 2 classes.\n",
            "Data Loaded Successfully!\n"
          ]
        }
      ]
    },
    {
      "cell_type": "code",
      "source": [
        "# Building CNN Model\n",
        "model = Sequential([\n",
        "    Conv2D(32, (3,3), activation='relu', input_shape=(128, 128, 3)),\n",
        "    MaxPooling2D(2,2),\n",
        "    Conv2D(64, (3,3), activation='relu'),\n",
        "    MaxPooling2D(2,2),\n",
        "    Conv2D(128, (3,3), activation='relu'),\n",
        "    MaxPooling2D(2,2),\n",
        "    Flatten(),\n",
        "    Dense(128, activation='relu'),\n",
        "    Dropout(0.5),\n",
        "    Dense(1, activation='sigmoid')  # Binary classification (Normal/Pneumonia)\n",
        "])\n"
      ],
      "metadata": {
        "id": "y0iRZ2iOTQnc"
      },
      "execution_count": 45,
      "outputs": []
    },
    {
      "cell_type": "code",
      "source": [
        "# Compile the Model\n",
        "model.compile(optimizer='adam', loss='binary_crossentropy', metrics=['accuracy'])"
      ],
      "metadata": {
        "id": "M5awJG8sVc-J"
      },
      "execution_count": 46,
      "outputs": []
    },
    {
      "cell_type": "code",
      "source": [
        "#Training the Model\n",
        "EPOCHS = 10\n",
        "history = model.fit(train_generator, validation_data=val_generator, epochs=EPOCHS)"
      ],
      "metadata": {
        "colab": {
          "base_uri": "https://localhost:8080/"
        },
        "id": "yfvxVD7UTV-y",
        "outputId": "8496f838-705e-4c46-fee4-98011d8e9f70"
      },
      "execution_count": 47,
      "outputs": [
        {
          "output_type": "stream",
          "name": "stdout",
          "text": [
            "Epoch 1/10\n",
            "\u001b[1m164/164\u001b[0m \u001b[32m━━━━━━━━━━━━━━━━━━━━\u001b[0m\u001b[37m\u001b[0m \u001b[1m230s\u001b[0m 1s/step - accuracy: 0.8293 - loss: 0.3858 - val_accuracy: 0.6875 - val_loss: 0.5417\n",
            "Epoch 2/10\n",
            "\u001b[1m164/164\u001b[0m \u001b[32m━━━━━━━━━━━━━━━━━━━━\u001b[0m\u001b[37m\u001b[0m \u001b[1m252s\u001b[0m 1s/step - accuracy: 0.9627 - loss: 0.1152 - val_accuracy: 0.9375 - val_loss: 0.1428\n",
            "Epoch 3/10\n",
            "\u001b[1m164/164\u001b[0m \u001b[32m━━━━━━━━━━━━━━━━━━━━\u001b[0m\u001b[37m\u001b[0m \u001b[1m215s\u001b[0m 1s/step - accuracy: 0.9663 - loss: 0.1060 - val_accuracy: 0.8750 - val_loss: 0.2562\n",
            "Epoch 4/10\n",
            "\u001b[1m164/164\u001b[0m \u001b[32m━━━━━━━━━━━━━━━━━━━━\u001b[0m\u001b[37m\u001b[0m \u001b[1m222s\u001b[0m 1s/step - accuracy: 0.9713 - loss: 0.0826 - val_accuracy: 0.8750 - val_loss: 0.2008\n",
            "Epoch 5/10\n",
            "\u001b[1m164/164\u001b[0m \u001b[32m━━━━━━━━━━━━━━━━━━━━\u001b[0m\u001b[37m\u001b[0m \u001b[1m214s\u001b[0m 1s/step - accuracy: 0.9794 - loss: 0.0599 - val_accuracy: 0.9375 - val_loss: 0.1229\n",
            "Epoch 6/10\n",
            "\u001b[1m164/164\u001b[0m \u001b[32m━━━━━━━━━━━━━━━━━━━━\u001b[0m\u001b[37m\u001b[0m \u001b[1m269s\u001b[0m 1s/step - accuracy: 0.9807 - loss: 0.0526 - val_accuracy: 0.8750 - val_loss: 0.2370\n",
            "Epoch 7/10\n",
            "\u001b[1m164/164\u001b[0m \u001b[32m━━━━━━━━━━━━━━━━━━━━\u001b[0m\u001b[37m\u001b[0m \u001b[1m215s\u001b[0m 1s/step - accuracy: 0.9852 - loss: 0.0442 - val_accuracy: 0.8125 - val_loss: 0.4249\n",
            "Epoch 8/10\n",
            "\u001b[1m164/164\u001b[0m \u001b[32m━━━━━━━━━━━━━━━━━━━━\u001b[0m\u001b[37m\u001b[0m \u001b[1m214s\u001b[0m 1s/step - accuracy: 0.9875 - loss: 0.0384 - val_accuracy: 0.8750 - val_loss: 0.2880\n",
            "Epoch 9/10\n",
            "\u001b[1m164/164\u001b[0m \u001b[32m━━━━━━━━━━━━━━━━━━━━\u001b[0m\u001b[37m\u001b[0m \u001b[1m219s\u001b[0m 1s/step - accuracy: 0.9856 - loss: 0.0346 - val_accuracy: 0.8750 - val_loss: 0.4052\n",
            "Epoch 10/10\n",
            "\u001b[1m164/164\u001b[0m \u001b[32m━━━━━━━━━━━━━━━━━━━━\u001b[0m\u001b[37m\u001b[0m \u001b[1m212s\u001b[0m 1s/step - accuracy: 0.9947 - loss: 0.0197 - val_accuracy: 0.8750 - val_loss: 0.2845\n"
          ]
        }
      ]
    },
    {
      "cell_type": "code",
      "source": [
        "# Saving the model in the drive\n",
        "model.save('/content/drive/MyDrive/MY PROJECTS ON MACHINE LEARNING AND AI/INTERNSHIP PROJECTS /CAPSTONE PROJECTS/PROJECT 4 (PRAICP-1012-Pneumonia chest x-ray classification2)/PROJECT 4 (PRAICP-1012-Pneumonia chest x-ray classification2)/Pneumonia_Chest_Xray_Model.h5')\n",
        "print(\"Model saved successfully!\")"
      ],
      "metadata": {
        "colab": {
          "base_uri": "https://localhost:8080/"
        },
        "id": "8s3HSmyYTX9M",
        "outputId": "e0eac868-63a9-4392-8f63-761048448e17"
      },
      "execution_count": 49,
      "outputs": [
        {
          "output_type": "stream",
          "name": "stderr",
          "text": [
            "WARNING:absl:You are saving your model as an HDF5 file via `model.save()` or `keras.saving.save_model(model)`. This file format is considered legacy. We recommend using instead the native Keras format, e.g. `model.save('my_model.keras')` or `keras.saving.save_model(model, 'my_model.keras')`. \n"
          ]
        },
        {
          "output_type": "stream",
          "name": "stdout",
          "text": [
            "Model saved successfully!\n"
          ]
        }
      ]
    },
    {
      "cell_type": "code",
      "source": [
        "\n",
        "# Ploting Training Performance\n",
        "import matplotlib.pyplot as plt\n",
        "\n",
        "plt.plot(history.history['accuracy'], label='Train Accuracy')\n",
        "plt.plot(history.history['val_accuracy'], label='Validation Accuracy')\n",
        "plt.legend()\n",
        "plt.title(\"Model Accuracy Over Epochs\")\n",
        "plt.show()"
      ],
      "metadata": {
        "colab": {
          "base_uri": "https://localhost:8080/",
          "height": 452
        },
        "id": "UOyspmeTuXDN",
        "outputId": "9826cd67-05a2-41d9-accf-8e01e87588b4"
      },
      "execution_count": 50,
      "outputs": [
        {
          "output_type": "display_data",
          "data": {
            "text/plain": [
              "<Figure size 640x480 with 1 Axes>"
            ],
            "image/png": "[encoded data removed]"
          },
          "metadata": {}
        }
      ]
    },
    {
      "cell_type": "code",
      "source": [
        "# Loading & Test Model\n",
        "def predict_xray(image_path, model):\n",
        "    from tensorflow.keras.preprocessing import image\n",
        "    import numpy as np\n",
        "\n",
        "    img = image.load_img(image_path, target_size=IMG_SIZE)\n",
        "    img = image.img_to_array(img)/255.0\n",
        "    img = np.expand_dims(img, axis=0)\n",
        "    prediction = model.predict(img)\n",
        "    class_name = \"Pneumonia\" if prediction[0][0] > 0.5 else \"Normal\"\n",
        "    return class_name"
      ],
      "metadata": {
        "id": "i5SOgITaunlT"
      },
      "execution_count": null,
      "outputs": []
    },
    {
      "cell_type": "code",
      "source": [
        "# usage\n",
        "result = predict_xray('/content/drive/MyDrive/MY PROJECTS ON MACHINE LEARNING AND AI/INTERNSHIP PROJECTS /CAPSTONE PROJECTS/PROJECT 4 (PRAICP-1012-Pneumonia chest x-ray classification2)/Data/Chest-Xray-2/chest_xray/test/NORMAL/IM-0001-0001.jpeg', model)  #Testing with the test data from the dataset normal xray image\n",
        "print(\"Predicted Class:\", result)\n"
      ],
      "metadata": {
        "colab": {
          "base_uri": "https://localhost:8080/"
        },
        "id": "08SSRa5Du3_8",
        "outputId": "58778376-927e-4eb7-9dc4-e06b2f3b7388"
      },
      "execution_count": 51,
      "outputs": [
        {
          "output_type": "stream",
          "name": "stdout",
          "text": [
            "\u001b[1m1/1\u001b[0m \u001b[32m━━━━━━━━━━━━━━━━━━━━\u001b[0m\u001b[37m\u001b[0m \u001b[1m0s\u001b[0m 152ms/step\n",
            "Predicted Class: Normal\n"
          ]
        }
      ]
    },
    {
      "cell_type": "code",
      "source": [
        "# usage\n",
        "result = predict_xray('/content/drive/MyDrive/MY PROJECTS ON MACHINE LEARNING AND AI/INTERNSHIP PROJECTS /CAPSTONE PROJECTS/PROJECT 4 (PRAICP-1012-Pneumonia chest x-ray classification2)/Data/Chest-Xray-2/chest_xray/test/PNEUMONIA/person100_bacteria_475.jpeg', model)  #Testing with the test data from the dataset diseased xray image\n",
        "print(\"Predicted Class:\", result)\n"
      ],
      "metadata": {
        "colab": {
          "base_uri": "https://localhost:8080/"
        },
        "id": "b92YPpFbwJcY",
        "outputId": "26e6ab65-2147-49b4-fea6-e6a52aff4653"
      },
      "execution_count": 52,
      "outputs": [
        {
          "output_type": "stream",
          "name": "stdout",
          "text": [
            "\u001b[1m1/1\u001b[0m \u001b[32m━━━━━━━━━━━━━━━━━━━━\u001b[0m\u001b[37m\u001b[0m \u001b[1m0s\u001b[0m 47ms/step\n",
            "Predicted Class: Pneumonia\n"
          ]
        }
      ]
    },
    {
      "cell_type": "code",
      "source": [
        "# Get Training Accuracy\n",
        "train_loss, train_acc = model.evaluate(train_generator)\n",
        "print(f\"Training Accuracy: {train_acc * 100:.2f}%\")\n",
        "\n",
        "# Get Validation Accuracy\n",
        "val_loss, val_acc = model.evaluate(val_generator)\n",
        "print(f\"Validation Accuracy: {val_acc * 100:.2f}%\")\n",
        "\n",
        "# Get Test Accuracy\n",
        "test_loss, test_acc = model.evaluate(test_generator)\n",
        "print(f\"Test Accuracy: {test_acc * 100:.2f}%\")\n"
      ],
      "metadata": {
        "colab": {
          "base_uri": "https://localhost:8080/"
        },
        "id": "MJsZKhkqMBdc",
        "outputId": "a8027d9e-88c2-45da-d50f-980544a7a1de"
      },
      "execution_count": 54,
      "outputs": [
        {
          "output_type": "stream",
          "name": "stdout",
          "text": [
            "\u001b[1m164/164\u001b[0m \u001b[32m━━━━━━━━━━━━━━━━━━━━\u001b[0m\u001b[37m\u001b[0m \u001b[1m116s\u001b[0m 703ms/step - accuracy: 0.9948 - loss: 0.0159\n",
            "Training Accuracy: 99.48%\n",
            "\u001b[1m1/1\u001b[0m \u001b[32m━━━━━━━━━━━━━━━━━━━━\u001b[0m\u001b[37m\u001b[0m \u001b[1m0s\u001b[0m 376ms/step - accuracy: 0.8750 - loss: 0.2845\n",
            "Validation Accuracy: 87.50%\n"
          ]
        },
        {
          "output_type": "stream",
          "name": "stderr",
          "text": [
            "/usr/local/lib/python3.11/dist-packages/keras/src/trainers/data_adapters/py_dataset_adapter.py:121: UserWarning: Your `PyDataset` class should call `super().__init__(**kwargs)` in its constructor. `**kwargs` can include `workers`, `use_multiprocessing`, `max_queue_size`. Do not pass these arguments to `fit()`, as they will be ignored.\n",
            "  self._warn_if_super_not_called()\n"
          ]
        },
        {
          "output_type": "stream",
          "name": "stdout",
          "text": [
            "\u001b[1m164/164\u001b[0m \u001b[32m━━━━━━━━━━━━━━━━━━━━\u001b[0m\u001b[37m\u001b[0m \u001b[1m114s\u001b[0m 695ms/step - accuracy: 0.9937 - loss: 0.0194\n",
            "Test Accuracy: 99.48%\n"
          ]
        }
      ]
    },
    {
      "cell_type": "code",
      "source": [
        "test_loss, test_acc = model.evaluate(test_generator)\n",
        "print(f\"✅ Test Accuracy: {test_acc * 100:.2f}%\")\n"
      ],
      "metadata": {
        "colab": {
          "base_uri": "https://localhost:8080/"
        },
        "id": "UsYp2RGiH88j",
        "outputId": "bd745ba8-a671-4fbf-e2b7-3e33e55d3679"
      },
      "execution_count": 55,
      "outputs": [
        {
          "output_type": "stream",
          "name": "stdout",
          "text": [
            "\u001b[1m164/164\u001b[0m \u001b[32m━━━━━━━━━━━━━━━━━━━━\u001b[0m\u001b[37m\u001b[0m \u001b[1m114s\u001b[0m 692ms/step - accuracy: 0.9937 - loss: 0.0194\n",
            "✅ Test Accuracy: 99.48%\n"
          ]
        }
      ]
    },
    {
      "cell_type": "markdown",
      "source": [],
      "metadata": {
        "id": "gAliX7AhoAUB"
      }
    },
    {
      "cell_type": "code",
      "source": [
        "import numpy as np\n",
        "import seaborn as sns\n",
        "import matplotlib.pyplot as plt\n",
        "from sklearn.metrics import confusion_matrix\n",
        "\n",
        "# Get True Labels & Predictions\n",
        "true_labels = test_generator.classes\n",
        "predictions = model.predict(test_generator)\n",
        "predicted_labels = np.round(predictions).flatten()  # Convert probabilities to 0/1\n",
        "\n",
        "# Generates Confusion Matrix\n",
        "cm = confusion_matrix(true_labels, predicted_labels)\n",
        "\n",
        "# Plot Confusion Matrix\n",
        "plt.figure(figsize=(6, 5))\n",
        "sns.heatmap(cm, annot=True, fmt=\"d\", cmap=\"Blues\", xticklabels=[\"Normal\", \"Pneumonia\"], yticklabels=[\"Normal\", \"Pneumonia\"])\n",
        "plt.xlabel(\"Predicted Label\")\n",
        "plt.ylabel(\"True Label\")\n",
        "plt.title(\"Confusion Matrix\")\n",
        "plt.show()\n"
      ],
      "metadata": {
        "colab": {
          "base_uri": "https://localhost:8080/",
          "height": 505
        },
        "id": "ce9j2kiXIbxN",
        "outputId": "8ec0c440-7219-4695-fd3c-22eda9e528bf"
      },
      "execution_count": 56,
      "outputs": [
        {
          "output_type": "stream",
          "name": "stdout",
          "text": [
            "\u001b[1m164/164\u001b[0m \u001b[32m━━━━━━━━━━━━━━━━━━━━\u001b[0m\u001b[37m\u001b[0m \u001b[1m113s\u001b[0m 688ms/step\n"
          ]
        },
        {
          "output_type": "display_data",
          "data": {
            "text/plain": [
              "<Figure size 600x500 with 2 Axes>"
            ],
            "image/png": "[encoded data removed]"
          },
          "metadata": {}
        }
      ]
    },
    {
      "cell_type": "code",
      "source": [],
      "metadata": {
        "id": "5Nk6ty7NIl_U"
      },
      "execution_count": null,
      "outputs": []
    }
  ]
}